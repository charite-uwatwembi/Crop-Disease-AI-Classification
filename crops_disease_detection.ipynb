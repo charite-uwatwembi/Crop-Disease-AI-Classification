{
  "cells": [
    {
      "cell_type": "markdown",
      "metadata": {
        "colab_type": "text",
        "id": "view-in-github"
      },
      "source": [
        "<a href=\"https://colab.research.google.com/github/charite-uwatwembi/Crop-Disease-AI-Classification/blob/main/crops_disease_detection.ipynb\" target=\"_parent\"><img src=\"https://colab.research.google.com/assets/colab-badge.svg\" alt=\"Open In Colab\"/></a>"
      ]
    },
    {
      "cell_type": "code",
      "execution_count": 2,
      "metadata": {
        "colab": {
          "base_uri": "https://localhost:8080/"
        },
        "id": "R7rhGPWLSuJ9",
        "outputId": "407f9089-9f0a-4725-b2a8-b4ddca58dd5d"
      },
      "outputs": [
        {
          "name": "stdout",
          "output_type": "stream",
          "text": [
            "Requirement already satisfied: kaggle in d:\\study\\bse\\machinelearning\\linear_regression_model\\.conda\\lib\\site-packages (1.6.17)\n",
            "Requirement already satisfied: six>=1.10 in d:\\study\\bse\\machinelearning\\linear_regression_model\\.conda\\lib\\site-packages (from kaggle) (1.16.0)\n",
            "Requirement already satisfied: certifi>=2023.7.22 in d:\\study\\bse\\machinelearning\\linear_regression_model\\.conda\\lib\\site-packages (from kaggle) (2024.7.4)\n",
            "Requirement already satisfied: python-dateutil in c:\\users\\hp\\appdata\\roaming\\python\\python312\\site-packages (from kaggle) (2.9.0.post0)\n",
            "Requirement already satisfied: requests in d:\\study\\bse\\machinelearning\\linear_regression_model\\.conda\\lib\\site-packages (from kaggle) (2.32.3)\n",
            "Requirement already satisfied: tqdm in d:\\study\\bse\\machinelearning\\linear_regression_model\\.conda\\lib\\site-packages (from kaggle) (4.66.5)\n",
            "Requirement already satisfied: python-slugify in d:\\study\\bse\\machinelearning\\linear_regression_model\\.conda\\lib\\site-packages (from kaggle) (8.0.4)\n",
            "Requirement already satisfied: urllib3 in d:\\study\\bse\\machinelearning\\linear_regression_model\\.conda\\lib\\site-packages (from kaggle) (2.2.3)\n",
            "Requirement already satisfied: bleach in d:\\study\\bse\\machinelearning\\linear_regression_model\\.conda\\lib\\site-packages (from kaggle) (6.1.0)\n",
            "Requirement already satisfied: webencodings in d:\\study\\bse\\machinelearning\\linear_regression_model\\.conda\\lib\\site-packages (from bleach->kaggle) (0.5.1)\n",
            "Requirement already satisfied: text-unidecode>=1.3 in d:\\study\\bse\\machinelearning\\linear_regression_model\\.conda\\lib\\site-packages (from python-slugify->kaggle) (1.3)\n",
            "Requirement already satisfied: charset-normalizer<4,>=2 in d:\\study\\bse\\machinelearning\\linear_regression_model\\.conda\\lib\\site-packages (from requests->kaggle) (3.3.2)\n",
            "Requirement already satisfied: idna<4,>=2.5 in d:\\study\\bse\\machinelearning\\linear_regression_model\\.conda\\lib\\site-packages (from requests->kaggle) (3.7)\n",
            "Requirement already satisfied: colorama in c:\\users\\hp\\appdata\\roaming\\python\\python312\\site-packages (from tqdm->kaggle) (0.4.6)\n"
          ]
        }
      ],
      "source": [
        "!pip install kaggle\n",
        "import os\n"
      ]
    },
    {
      "cell_type": "markdown",
      "metadata": {
        "id": "TJormu43S0c6"
      },
      "source": [
        "# New Section"
      ]
    },
    {
      "cell_type": "code",
      "execution_count": 3,
      "metadata": {
        "colab": {
          "base_uri": "https://localhost:8080/",
          "height": 73
        },
        "id": "2U3-12usTH5G",
        "outputId": "eb12c05b-8e90-4a09-d23b-5c0e07d73927"
      },
      "outputs": [
        {
          "ename": "ModuleNotFoundError",
          "evalue": "No module named 'google.colab'",
          "output_type": "error",
          "traceback": [
            "\u001b[1;31m---------------------------------------------------------------------------\u001b[0m",
            "\u001b[1;31mModuleNotFoundError\u001b[0m                       Traceback (most recent call last)",
            "Cell \u001b[1;32mIn[3], line 1\u001b[0m\n\u001b[1;32m----> 1\u001b[0m \u001b[38;5;28;01mfrom\u001b[39;00m \u001b[38;5;21;01mgoogle\u001b[39;00m\u001b[38;5;21;01m.\u001b[39;00m\u001b[38;5;21;01mcolab\u001b[39;00m \u001b[38;5;28;01mimport\u001b[39;00m files\n\u001b[0;32m      3\u001b[0m \u001b[38;5;66;03m# Upload the Kaggle API key file (kaggle.json) that you downloaded\u001b[39;00m\n\u001b[0;32m      4\u001b[0m uploaded \u001b[38;5;241m=\u001b[39m files\u001b[38;5;241m.\u001b[39mupload()\n",
            "\u001b[1;31mModuleNotFoundError\u001b[0m: No module named 'google.colab'"
          ]
        }
      ],
      "source": [
        "from google.colab import files\n",
        "\n",
        "# Upload the Kaggle API key file (kaggle.json) that you downloaded\n",
        "uploaded = files.upload()\n",
        "\n",
        "# Move the uploaded file to the required location\n",
        "!mkdir -p ~/.kaggle/ && mv kaggle.json ~/.kaggle/ && chmod 600 ~/.kaggle/kaggle.json\n"
      ]
    },
    {
      "cell_type": "code",
      "execution_count": 23,
      "metadata": {
        "colab": {
          "base_uri": "https://localhost:8080/"
        },
        "id": "mCKaSV66YvDp",
        "outputId": "524c3f73-c581-4d14-ceca-b9ecd0eafdd7"
      },
      "outputs": [
        {
          "name": "stdout",
          "output_type": "stream",
          "text": [
            "ref                                                           title                                                size  lastUpdated          downloadCount  voteCount  usabilityRating  \n",
            "------------------------------------------------------------  --------------------------------------------------  -----  -------------------  -------------  ---------  ---------------  \n",
            "lainguyn123/student-performance-factors                       Student Performance Factors                          94KB  2024-09-02 10:53:57          28009        493  1.0              \n",
            "abdulszz/spotify-most-streamed-songs                          Spotify Most Streamed Songs                          60KB  2024-09-07 18:23:14          10612        139  1.0              \n",
            "valakhorasani/mobile-device-usage-and-user-behavior-dataset   Mobile Device Usage and User Behavior Dataset        11KB  2024-09-28 20:21:12           3355         66  1.0              \n",
            "thomasfranois/worlds-best-restaurants                         World's Best Restaurants                             10KB  2024-10-06 21:10:09           1261         30  1.0              \n",
            "zafarali27/car-price-prediction                               Car Price Prediction                                 45KB  2024-09-21 20:30:22           1435         22  1.0              \n",
            "valakhorasani/gym-members-exercise-dataset                    Gym Members Exercise Dataset                         22KB  2024-10-06 11:27:38           1229         35  1.0              \n",
            "waqi786/remote-work-and-mental-health                         Remote Work & Mental Health 🌍🧠                       93KB  2024-09-22 11:44:29           4491         76  1.0              \n",
            "owm4096/laptop-prices                                         Laptop Prices                                        25KB  2024-09-09 12:43:01           8759        126  1.0              \n",
            "ironwolf404/electric-vehicle-population-in-usa                Electric Vehicle Population in USA                    6MB  2024-10-05 12:06:02           1130         34  1.0              \n",
            "willianoliveiragibin/marvel-vs-dc                             Marvel vs DC                                        107KB  2024-09-26 22:51:04           1666         32  1.0              \n",
            "valakhorasani/electric-vehicle-charging-patterns              Electric Vehicle Charging Patterns                  130KB  2024-10-02 10:52:27           1524         45  1.0              \n",
            "waqi786/china-vs-japan                                        🚀 China vs Japan                                     75KB  2024-09-18 14:29:23            933         22  1.0              \n",
            "syedfaizanalii/predict-students-dropout-and-academic-success  Predict Students Dropout and Academic Success       105KB  2024-09-28 09:41:55           1557         53  1.0              \n",
            "daniilmiheev/top-spotify-podcasts-daily-updated               Top Spotify Podcast Episodes (Daily Updated)         99MB  2024-10-09 20:30:17           1003         22  1.0              \n",
            "shreyasur965/recent-earthquakes                               Global Earthquake Data                              214KB  2024-09-19 16:18:55           1783         28  1.0              \n",
            "davinascimento/data-to-learn-data-science                     Fitness Tracking Data for Data Science Learning       1KB  2024-10-03 22:13:25            574         24  1.0              \n",
            "cameronseamons/electronic-sales-sep2023-sep2024               Customer purchase behavior - Electronic Sales Data  327KB  2024-09-23 01:54:36           3687         50  1.0              \n",
            "taweilo/mba-admission-dataset                                 MBA Admission dataset, Class 2025                    55KB  2024-09-18 07:57:38           4111         70  1.0              \n",
            "zongaobian/microsoft-stock-data-and-key-affiliated-companies  Microsoft Stock Data and Key Affiliated Companies     1MB  2024-10-05 03:36:33            648         26  1.0              \n",
            "asmonline/spotify-song-performance-dataset                    Spotify's Most Streamed Songs 2024                   55KB  2024-09-23 21:06:36           2378         29  0.9411765        \n"
          ]
        }
      ],
      "source": [
        "!kaggle datasets list\n"
      ]
    },
    {
      "cell_type": "code",
      "execution_count": 24,
      "metadata": {
        "colab": {
          "base_uri": "https://localhost:8080/"
        },
        "id": "-k2B4x5gaNys",
        "outputId": "8314a794-cc75-4237-cc7c-599125838b71"
      },
      "outputs": [
        {
          "name": "stdout",
          "output_type": "stream",
          "text": [
            "Dataset URL: https://www.kaggle.com/datasets/moazeldsokyx/plantvillage\n",
            "License(s): CC0-1.0\n",
            "plantvillage.zip: Skipping, found more recently modified local copy (use --force to force download)\n"
          ]
        }
      ],
      "source": [
        "!kaggle datasets download -d moazeldsokyx/plantvillage"
      ]
    },
    {
      "cell_type": "code",
      "execution_count": 25,
      "metadata": {
        "id": "MCfn7D26aebN"
      },
      "outputs": [],
      "source": [
        "import zipfile\n",
        "with zipfile.ZipFile('/content/plantvillage.zip', 'r') as zip_ref:\n",
        "    zip_ref.extractall('/content/plantvillage/')\n"
      ]
    },
    {
      "cell_type": "code",
      "execution_count": 26,
      "metadata": {
        "colab": {
          "base_uri": "https://localhost:8080/"
        },
        "id": "zuD8RSFdbtvz",
        "outputId": "ed7cf308-2193-4077-bab6-6c6d628ca524"
      },
      "outputs": [
        {
          "name": "stdout",
          "output_type": "stream",
          "text": [
            "Requirement already satisfied: tensorflow in /usr/local/lib/python3.10/dist-packages (2.17.0)\n",
            "Requirement already satisfied: matplotlib in /usr/local/lib/python3.10/dist-packages (3.7.1)\n",
            "Requirement already satisfied: seaborn in /usr/local/lib/python3.10/dist-packages (0.13.1)\n",
            "Requirement already satisfied: scikit-learn in /usr/local/lib/python3.10/dist-packages (1.5.2)\n",
            "Requirement already satisfied: absl-py>=1.0.0 in /usr/local/lib/python3.10/dist-packages (from tensorflow) (1.4.0)\n",
            "Requirement already satisfied: astunparse>=1.6.0 in /usr/local/lib/python3.10/dist-packages (from tensorflow) (1.6.3)\n",
            "Requirement already satisfied: flatbuffers>=24.3.25 in /usr/local/lib/python3.10/dist-packages (from tensorflow) (24.3.25)\n",
            "Requirement already satisfied: gast!=0.5.0,!=0.5.1,!=0.5.2,>=0.2.1 in /usr/local/lib/python3.10/dist-packages (from tensorflow) (0.6.0)\n",
            "Requirement already satisfied: google-pasta>=0.1.1 in /usr/local/lib/python3.10/dist-packages (from tensorflow) (0.2.0)\n",
            "Requirement already satisfied: h5py>=3.10.0 in /usr/local/lib/python3.10/dist-packages (from tensorflow) (3.11.0)\n",
            "Requirement already satisfied: libclang>=13.0.0 in /usr/local/lib/python3.10/dist-packages (from tensorflow) (18.1.1)\n",
            "Requirement already satisfied: ml-dtypes<0.5.0,>=0.3.1 in /usr/local/lib/python3.10/dist-packages (from tensorflow) (0.4.1)\n",
            "Requirement already satisfied: opt-einsum>=2.3.2 in /usr/local/lib/python3.10/dist-packages (from tensorflow) (3.4.0)\n",
            "Requirement already satisfied: packaging in /usr/local/lib/python3.10/dist-packages (from tensorflow) (24.1)\n",
            "Requirement already satisfied: protobuf!=4.21.0,!=4.21.1,!=4.21.2,!=4.21.3,!=4.21.4,!=4.21.5,<5.0.0dev,>=3.20.3 in /usr/local/lib/python3.10/dist-packages (from tensorflow) (3.20.3)\n",
            "Requirement already satisfied: requests<3,>=2.21.0 in /usr/local/lib/python3.10/dist-packages (from tensorflow) (2.32.3)\n",
            "Requirement already satisfied: setuptools in /usr/local/lib/python3.10/dist-packages (from tensorflow) (71.0.4)\n",
            "Requirement already satisfied: six>=1.12.0 in /usr/local/lib/python3.10/dist-packages (from tensorflow) (1.16.0)\n",
            "Requirement already satisfied: termcolor>=1.1.0 in /usr/local/lib/python3.10/dist-packages (from tensorflow) (2.4.0)\n",
            "Requirement already satisfied: typing-extensions>=3.6.6 in /usr/local/lib/python3.10/dist-packages (from tensorflow) (4.12.2)\n",
            "Requirement already satisfied: wrapt>=1.11.0 in /usr/local/lib/python3.10/dist-packages (from tensorflow) (1.16.0)\n",
            "Requirement already satisfied: grpcio<2.0,>=1.24.3 in /usr/local/lib/python3.10/dist-packages (from tensorflow) (1.64.1)\n",
            "Requirement already satisfied: tensorboard<2.18,>=2.17 in /usr/local/lib/python3.10/dist-packages (from tensorflow) (2.17.0)\n",
            "Requirement already satisfied: keras>=3.2.0 in /usr/local/lib/python3.10/dist-packages (from tensorflow) (3.4.1)\n",
            "Requirement already satisfied: tensorflow-io-gcs-filesystem>=0.23.1 in /usr/local/lib/python3.10/dist-packages (from tensorflow) (0.37.1)\n",
            "Requirement already satisfied: numpy<2.0.0,>=1.23.5 in /usr/local/lib/python3.10/dist-packages (from tensorflow) (1.26.4)\n",
            "Requirement already satisfied: contourpy>=1.0.1 in /usr/local/lib/python3.10/dist-packages (from matplotlib) (1.3.0)\n",
            "Requirement already satisfied: cycler>=0.10 in /usr/local/lib/python3.10/dist-packages (from matplotlib) (0.12.1)\n",
            "Requirement already satisfied: fonttools>=4.22.0 in /usr/local/lib/python3.10/dist-packages (from matplotlib) (4.54.1)\n",
            "Requirement already satisfied: kiwisolver>=1.0.1 in /usr/local/lib/python3.10/dist-packages (from matplotlib) (1.4.7)\n",
            "Requirement already satisfied: pillow>=6.2.0 in /usr/local/lib/python3.10/dist-packages (from matplotlib) (10.4.0)\n",
            "Requirement already satisfied: pyparsing>=2.3.1 in /usr/local/lib/python3.10/dist-packages (from matplotlib) (3.1.4)\n",
            "Requirement already satisfied: python-dateutil>=2.7 in /usr/local/lib/python3.10/dist-packages (from matplotlib) (2.8.2)\n",
            "Requirement already satisfied: pandas>=1.2 in /usr/local/lib/python3.10/dist-packages (from seaborn) (2.2.2)\n",
            "Requirement already satisfied: scipy>=1.6.0 in /usr/local/lib/python3.10/dist-packages (from scikit-learn) (1.13.1)\n",
            "Requirement already satisfied: joblib>=1.2.0 in /usr/local/lib/python3.10/dist-packages (from scikit-learn) (1.4.2)\n",
            "Requirement already satisfied: threadpoolctl>=3.1.0 in /usr/local/lib/python3.10/dist-packages (from scikit-learn) (3.5.0)\n",
            "Requirement already satisfied: wheel<1.0,>=0.23.0 in /usr/local/lib/python3.10/dist-packages (from astunparse>=1.6.0->tensorflow) (0.44.0)\n",
            "Requirement already satisfied: rich in /usr/local/lib/python3.10/dist-packages (from keras>=3.2.0->tensorflow) (13.9.1)\n",
            "Requirement already satisfied: namex in /usr/local/lib/python3.10/dist-packages (from keras>=3.2.0->tensorflow) (0.0.8)\n",
            "Requirement already satisfied: optree in /usr/local/lib/python3.10/dist-packages (from keras>=3.2.0->tensorflow) (0.13.0)\n",
            "Requirement already satisfied: pytz>=2020.1 in /usr/local/lib/python3.10/dist-packages (from pandas>=1.2->seaborn) (2024.2)\n",
            "Requirement already satisfied: tzdata>=2022.7 in /usr/local/lib/python3.10/dist-packages (from pandas>=1.2->seaborn) (2024.2)\n",
            "Requirement already satisfied: charset-normalizer<4,>=2 in /usr/local/lib/python3.10/dist-packages (from requests<3,>=2.21.0->tensorflow) (3.3.2)\n",
            "Requirement already satisfied: idna<4,>=2.5 in /usr/local/lib/python3.10/dist-packages (from requests<3,>=2.21.0->tensorflow) (3.10)\n",
            "Requirement already satisfied: urllib3<3,>=1.21.1 in /usr/local/lib/python3.10/dist-packages (from requests<3,>=2.21.0->tensorflow) (2.2.3)\n",
            "Requirement already satisfied: certifi>=2017.4.17 in /usr/local/lib/python3.10/dist-packages (from requests<3,>=2.21.0->tensorflow) (2024.8.30)\n",
            "Requirement already satisfied: markdown>=2.6.8 in /usr/local/lib/python3.10/dist-packages (from tensorboard<2.18,>=2.17->tensorflow) (3.7)\n",
            "Requirement already satisfied: tensorboard-data-server<0.8.0,>=0.7.0 in /usr/local/lib/python3.10/dist-packages (from tensorboard<2.18,>=2.17->tensorflow) (0.7.2)\n",
            "Requirement already satisfied: werkzeug>=1.0.1 in /usr/local/lib/python3.10/dist-packages (from tensorboard<2.18,>=2.17->tensorflow) (3.0.4)\n",
            "Requirement already satisfied: MarkupSafe>=2.1.1 in /usr/local/lib/python3.10/dist-packages (from werkzeug>=1.0.1->tensorboard<2.18,>=2.17->tensorflow) (2.1.5)\n",
            "Requirement already satisfied: markdown-it-py>=2.2.0 in /usr/local/lib/python3.10/dist-packages (from rich->keras>=3.2.0->tensorflow) (3.0.0)\n",
            "Requirement already satisfied: pygments<3.0.0,>=2.13.0 in /usr/local/lib/python3.10/dist-packages (from rich->keras>=3.2.0->tensorflow) (2.18.0)\n",
            "Requirement already satisfied: mdurl~=0.1 in /usr/local/lib/python3.10/dist-packages (from markdown-it-py>=2.2.0->rich->keras>=3.2.0->tensorflow) (0.1.2)\n"
          ]
        }
      ],
      "source": [
        "# Install necessary libraries\n",
        "!pip install tensorflow matplotlib seaborn scikit-learn\n"
      ]
    },
    {
      "cell_type": "code",
      "execution_count": 33,
      "metadata": {
        "colab": {
          "base_uri": "https://localhost:8080/"
        },
        "id": "7_oVzD_aCIje",
        "outputId": "5b88cf32-724d-4e4c-cf3b-90d5f54554d2"
      },
      "outputs": [
        {
          "name": "stdout",
          "output_type": "stream",
          "text": [
            "['train', 'test', 'validation']\n"
          ]
        }
      ],
      "source": [
        "import os\n",
        "print(os.listdir('/content/plantvillage/dataset'))\n",
        "\n"
      ]
    },
    {
      "cell_type": "code",
      "execution_count": 40,
      "metadata": {
        "colab": {
          "base_uri": "https://localhost:8080/",
          "height": 1000
        },
        "id": "Cdh31T8gbzzb",
        "outputId": "ffbd2868-16ac-462a-87d5-acb77e6f5088"
      },
      "outputs": [
        {
          "name": "stdout",
          "output_type": "stream",
          "text": [
            "Found 16504 images belonging to 15 classes.\n",
            "Found 2070 images belonging to 15 classes.\n",
            "Found 2064 images belonging to 15 classes.\n",
            "Epoch 1/50\n"
          ]
        },
        {
          "name": "stderr",
          "output_type": "stream",
          "text": [
            "/usr/local/lib/python3.10/dist-packages/keras/src/trainers/data_adapters/py_dataset_adapter.py:121: UserWarning: Your `PyDataset` class should call `super().__init__(**kwargs)` in its constructor. `**kwargs` can include `workers`, `use_multiprocessing`, `max_queue_size`. Do not pass these arguments to `fit()`, as they will be ignored.\n",
            "  self._warn_if_super_not_called()\n"
          ]
        },
        {
          "name": "stdout",
          "output_type": "stream",
          "text": [
            "\u001b[1m516/516\u001b[0m \u001b[32m━━━━━━━━━━━━━━━━━━━━\u001b[0m\u001b[37m\u001b[0m \u001b[1m113s\u001b[0m 209ms/step - accuracy: 0.3974 - loss: 1.9683 - val_accuracy: 0.5372 - val_loss: 1.6744 - learning_rate: 0.0010\n",
            "Epoch 2/50\n",
            "\u001b[1m516/516\u001b[0m \u001b[32m━━━━━━━━━━━━━━━━━━━━\u001b[0m\u001b[37m\u001b[0m \u001b[1m134s\u001b[0m 200ms/step - accuracy: 0.7265 - loss: 0.8377 - val_accuracy: 0.6874 - val_loss: 1.0225 - learning_rate: 0.0010\n",
            "Epoch 3/50\n",
            "\u001b[1m516/516\u001b[0m \u001b[32m━━━━━━━━━━━━━━━━━━━━\u001b[0m\u001b[37m\u001b[0m \u001b[1m102s\u001b[0m 195ms/step - accuracy: 0.7855 - loss: 0.6433 - val_accuracy: 0.7266 - val_loss: 0.8977 - learning_rate: 0.0010\n",
            "Epoch 4/50\n",
            "\u001b[1m516/516\u001b[0m \u001b[32m━━━━━━━━━━━━━━━━━━━━\u001b[0m\u001b[37m\u001b[0m \u001b[1m145s\u001b[0m 201ms/step - accuracy: 0.8149 - loss: 0.5619 - val_accuracy: 0.7715 - val_loss: 0.7946 - learning_rate: 0.0010\n",
            "Epoch 5/50\n",
            "\u001b[1m516/516\u001b[0m \u001b[32m━━━━━━━━━━━━━━━━━━━━\u001b[0m\u001b[37m\u001b[0m \u001b[1m102s\u001b[0m 196ms/step - accuracy: 0.8218 - loss: 0.5182 - val_accuracy: 0.7386 - val_loss: 1.0312 - learning_rate: 0.0010\n",
            "Epoch 6/50\n",
            "\u001b[1m516/516\u001b[0m \u001b[32m━━━━━━━━━━━━━━━━━━━━\u001b[0m\u001b[37m\u001b[0m \u001b[1m145s\u001b[0m 202ms/step - accuracy: 0.8470 - loss: 0.4635 - val_accuracy: 0.8242 - val_loss: 0.6130 - learning_rate: 0.0010\n",
            "Epoch 7/50\n",
            "\u001b[1m516/516\u001b[0m \u001b[32m━━━━━━━━━━━━━━━━━━━━\u001b[0m\u001b[37m\u001b[0m \u001b[1m141s\u001b[0m 199ms/step - accuracy: 0.8634 - loss: 0.4075 - val_accuracy: 0.8164 - val_loss: 0.6865 - learning_rate: 0.0010\n",
            "Epoch 8/50\n",
            "\u001b[1m516/516\u001b[0m \u001b[32m━━━━━━━━━━━━━━━━━━━━\u001b[0m\u001b[37m\u001b[0m \u001b[1m104s\u001b[0m 200ms/step - accuracy: 0.8650 - loss: 0.4079 - val_accuracy: 0.8377 - val_loss: 0.5459 - learning_rate: 0.0010\n",
            "Epoch 9/50\n",
            "\u001b[1m516/516\u001b[0m \u001b[32m━━━━━━━━━━━━━━━━━━━━\u001b[0m\u001b[37m\u001b[0m \u001b[1m105s\u001b[0m 200ms/step - accuracy: 0.8702 - loss: 0.3716 - val_accuracy: 0.8454 - val_loss: 0.5614 - learning_rate: 0.0010\n",
            "Epoch 10/50\n",
            "\u001b[1m516/516\u001b[0m \u001b[32m━━━━━━━━━━━━━━━━━━━━\u001b[0m\u001b[37m\u001b[0m \u001b[1m103s\u001b[0m 198ms/step - accuracy: 0.8869 - loss: 0.3378 - val_accuracy: 0.8454 - val_loss: 0.5885 - learning_rate: 0.0010\n",
            "Epoch 11/50\n",
            "\u001b[1m516/516\u001b[0m \u001b[32m━━━━━━━━━━━━━━━━━━━━\u001b[0m\u001b[37m\u001b[0m \u001b[1m144s\u001b[0m 203ms/step - accuracy: 0.8945 - loss: 0.3105 - val_accuracy: 0.8068 - val_loss: 0.7243 - learning_rate: 0.0010\n",
            "Epoch 12/50\n",
            "\u001b[1m516/516\u001b[0m \u001b[32m━━━━━━━━━━━━━━━━━━━━\u001b[0m\u001b[37m\u001b[0m \u001b[1m141s\u001b[0m 201ms/step - accuracy: 0.8904 - loss: 0.3183 - val_accuracy: 0.8367 - val_loss: 0.6044 - learning_rate: 0.0010\n",
            "Epoch 13/50\n",
            "\u001b[1m516/516\u001b[0m \u001b[32m━━━━━━━━━━━━━━━━━━━━\u001b[0m\u001b[37m\u001b[0m \u001b[1m142s\u001b[0m 199ms/step - accuracy: 0.9044 - loss: 0.2820 - val_accuracy: 0.8396 - val_loss: 0.6587 - learning_rate: 0.0010\n",
            "Train class distribution: 12    2566\n",
            "5     1701\n",
            "7     1527\n",
            "9     1416\n",
            "10    1340\n",
            "14    1272\n",
            "1     1182\n",
            "11    1123\n",
            "2      800\n",
            "3      800\n",
            "6      800\n",
            "0      797\n",
            "8      761\n",
            "13     298\n",
            "4      121\n",
            "Name: count, dtype: int64\n",
            "Validation class distribution: 12    321\n",
            "5     213\n",
            "7     191\n",
            "9     178\n",
            "10    168\n",
            "14    160\n",
            "1     148\n",
            "11    141\n",
            "0     100\n",
            "2     100\n",
            "3     100\n",
            "6     100\n",
            "8      96\n",
            "13     38\n",
            "4      16\n",
            "Name: count, dtype: int64\n"
          ]
        },
        {
          "data": {
            "image/png": "[encoded data removed]",
            "text/plain": [
              "<Figure size 640x480 with 1 Axes>"
            ]
          },
          "metadata": {},
          "output_type": "display_data"
        }
      ],
      "source": [
        "# Step 1: Importing Required Libraries\n",
        "import numpy as np\n",
        "import pandas as pd\n",
        "import matplotlib.pyplot as plt\n",
        "import seaborn as sns\n",
        "from tensorflow.keras.models import Sequential\n",
        "from tensorflow.keras.layers import Dense, Dropout, Flatten, Conv2D, MaxPooling2D\n",
        "from tensorflow.keras.preprocessing.image import ImageDataGenerator\n",
        "from tensorflow.keras.callbacks import EarlyStopping, ReduceLROnPlateau\n",
        "\n",
        "# Step 2: Data Augmentation\n",
        "train_datagen = ImageDataGenerator(\n",
        "    rescale=1.0/255,  # Normalize the images\n",
        "    rotation_range=40,  # Randomly rotate images in the range (degrees)\n",
        "    width_shift_range=0.2,  # Randomly shift images horizontally\n",
        "    height_shift_range=0.2,  # Randomly shift images vertically\n",
        "    shear_range=0.2,  # Shear intensity (shear angle in counter-clockwise direction in degrees)\n",
        "    zoom_range=0.2,  # Randomly zoom into images\n",
        "    horizontal_flip=True,  # Randomly flip images\n",
        "    fill_mode='nearest'  # Fill mode for new pixels\n",
        ")\n",
        "\n",
        "# Set the paths for train, validation, and test directories\n",
        "train_dir = '/content/plantvillage/dataset/train'\n",
        "validation_dir = '/content/plantvillage/dataset/validation'\n",
        "test_dir = '/content/plantvillage/dataset/test'\n",
        "\n",
        "# Train data generator\n",
        "train_generator = train_datagen.flow_from_directory(\n",
        "    train_dir,\n",
        "    target_size=(150, 150),\n",
        "    batch_size=32,\n",
        "    class_mode='categorical'  # Ensure this is 'categorical'\n",
        ")\n",
        "\n",
        "# Validation data generator\n",
        "valid_datagen = ImageDataGenerator(rescale=1.0/255)  # Only normalize the validation images\n",
        "validation_generator = valid_datagen.flow_from_directory(\n",
        "    validation_dir,\n",
        "    target_size=(150, 150),\n",
        "    batch_size=32,\n",
        "    class_mode='categorical'  # Ensure this is 'categorical'\n",
        ")\n",
        "\n",
        "# Define test_datagen\n",
        "test_datagen = ImageDataGenerator(rescale=1./255)  # Only rescaling is typically applied to test data\n",
        "# Load the test data\n",
        "test_generator = test_datagen.flow_from_directory(\n",
        "    test_dir,\n",
        "    target_size=(150, 150),\n",
        "    batch_size=32,\n",
        "    class_mode='categorical'  # Change this to 'binary' if using binary classification\n",
        ")\n",
        "\n",
        "# Define image dimensions\n",
        "image_height = 150  # Adjust this based on your input size\n",
        "image_width = 150   # Adjust this based on your input size\n",
        "num_channels = 3    # 3 for RGB images; use 1 for grayscale images\n",
        "\n",
        "# Step 3: Model Architecture\n",
        "model1 = Sequential()\n",
        "model1.add(Conv2D(32, (3, 3), activation='relu', input_shape=(image_height, image_width, num_channels)))\n",
        "model1.add(MaxPooling2D(pool_size=(2, 2)))\n",
        "model1.add(Conv2D(64, (3, 3), activation='relu'))\n",
        "model1.add(MaxPooling2D(pool_size=(2, 2)))\n",
        "model1.add(Flatten())\n",
        "model1.add(Dense(128, activation='relu'))\n",
        "model1.add(Dense(15, activation='softmax'))  # Change to 'sigmoid' if using binary classification\n",
        "\n",
        "# Step 4: Compile the Model\n",
        "model1.compile(\n",
        "    optimizer='adam',\n",
        "    loss='categorical_crossentropy',  # Use this for multi-class classification\n",
        "    metrics=['accuracy']\n",
        ")\n",
        "\n",
        "# Step 5: Early Stopping and Learning Rate Adjustment\n",
        "early_stopping = EarlyStopping(monitor='val_loss', patience=5, restore_best_weights=True)\n",
        "reduce_lr = ReduceLROnPlateau(monitor='val_loss', factor=0.2, patience=5, min_lr=1e-6)\n",
        "\n",
        "# Step 6: Train the Model\n",
        "history1 = model1.fit(\n",
        "    train_generator,\n",
        "    validation_data=validation_generator,\n",
        "    epochs=50,  # Increase for better training\n",
        "    callbacks=[early_stopping, reduce_lr]\n",
        ")\n",
        "\n",
        "# Step 7: Class Distribution Check\n",
        "train_classes = train_generator.classes\n",
        "val_classes = validation_generator.classes\n",
        "\n",
        "print(\"Train class distribution:\", pd.Series(train_classes).value_counts())\n",
        "print(\"Validation class distribution:\", pd.Series(val_classes).value_counts())\n",
        "\n",
        "# Step 8: Data Exploration and Visualization (if needed)\n",
        "# Example of class distribution visualization\n",
        "sns.countplot(x=train_classes)\n",
        "plt.title('Class Distribution in Training Set')\n",
        "plt.xlabel('Classes')\n",
        "plt.ylabel('Count')\n",
        "plt.show()\n"
      ]
    }
  ],
  "metadata": {
    "accelerator": "GPU",
    "colab": {
      "authorship_tag": "ABX9TyOA64vqAFc7sss6SVtBR9oe",
      "gpuType": "T4",
      "include_colab_link": true,
      "provenance": []
    },
    "kernelspec": {
      "display_name": "Python 3",
      "name": "python3"
    },
    "language_info": {
      "codemirror_mode": {
        "name": "ipython",
        "version": 3
      },
      "file_extension": ".py",
      "mimetype": "text/x-python",
      "name": "python",
      "nbconvert_exporter": "python",
      "pygments_lexer": "ipython3",
      "version": "3.12.4"
    }
  },
  "nbformat": 4,
  "nbformat_minor": 0
}
